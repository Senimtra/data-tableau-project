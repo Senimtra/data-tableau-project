{
 "cells": [
  {
   "cell_type": "markdown",
   "metadata": {},
   "source": [
    "# Tableau project data cleaning + preparation\n",
    "\n",
    "#### Around 56 million people die each year. What caused their death?"
   ]
  },
  {
   "cell_type": "code",
   "execution_count": null,
   "metadata": {},
   "outputs": [],
   "source": [
    "# Imports\n",
    "\n",
    "import pandas as pd\n",
    "import re"
   ]
  },
  {
   "cell_type": "code",
   "execution_count": null,
   "metadata": {},
   "outputs": [],
   "source": [
    "# Pandas options\n",
    "\n",
    "pd.set_option('display.max_columns', None)\n",
    "pd.set_option('display.max_rows', None)"
   ]
  },
  {
   "cell_type": "markdown",
   "metadata": {},
   "source": [
    "#### Clean death causes dataset"
   ]
  },
  {
   "cell_type": "code",
   "execution_count": null,
   "metadata": {},
   "outputs": [],
   "source": [
    "causes = pd.read_csv('dataset_deaths_by_cause.csv')\n",
    "\n",
    "causes.head()"
   ]
  },
  {
   "cell_type": "code",
   "execution_count": null,
   "metadata": {},
   "outputs": [],
   "source": [
    "# Clean column names\n",
    "\n",
    "causes.columns = [re.sub('^\\w{6} - | - S.+', '', col) for col in causes.columns]\n",
    "\n",
    "causes = causes.rename(columns = {'Entity': 'Country', 'Number of executions (Amnesty International)': 'Executions'})\n",
    "causes = causes.rename(columns = {\"Alzheimer's disease and other dementias\": 'Dementias', 'Cirrhosis and other chronic liver diseases': 'Chronic liver diseases'})\n",
    "\n",
    "causes.head()"
   ]
  },
  {
   "cell_type": "code",
   "execution_count": null,
   "metadata": {},
   "outputs": [],
   "source": [
    "# Clean country-list\n",
    "\n",
    "# print(set(causes['Country']))"
   ]
  },
  {
   "cell_type": "code",
   "execution_count": null,
   "metadata": {},
   "outputs": [],
   "source": [
    "causes_country_remove = ['Sub-Saharan Africa', 'Eastern Europe', 'South Asia (WB)', 'African Region (WHO)', 'West Germany (FRG)', 'World Bank Upper Middle Income', 'Central America & Caribbean', 'Czechoslovakia', 'World Bank Low Income', 'Australasia & Oceania', 'Western Pacific Region (WHO)', 'Yugoslavia', 'European Region (WHO)', 'World (excluding China)', 'England', 'Northern Ireland', 'Scotland', 'Wales', 'World Bank High Income', 'East Asia', 'USSR', 'East Germany (GDR)', 'North America (WB)', 'Middle East & North Africa', 'Southeast Asia', 'Western Sahara', 'World Bank Lower Middle Income', 'Region of the Americas (WHO)', 'G20', 'International', 'South-East Asia Region (WHO)', 'Latin America & Caribbean (WB)', 'South America', 'Sub-Saharan Africa (WB)', 'Central Asia', 'Eastern Mediterranean Region (WHO)', 'OECD Countries', 'East Asia & Pacific (WB)', 'North America', 'World', 'Europe & Central Asia (WB)', 'Middle East & North Africa (WB)', 'South Asia', 'Western Europe', 'Kosovo', 'Macau', 'Guadeloupe', 'Zaire', 'French Guiana', 'Hong Kong', 'Martinique', 'Bosnia-Herzegovina', 'New Caledonia', 'Serbia-Montenegro', 'East Timor', 'Wallis and Futuna', 'French Polynesia']\n",
    "\n",
    "causes = causes[~causes['Country'].isin(causes_country_remove)]\n",
    "\n",
    "len(set(causes['Country']))"
   ]
  },
  {
   "cell_type": "markdown",
   "metadata": {},
   "source": [
    "#### Clean death age groups dataset"
   ]
  },
  {
   "cell_type": "code",
   "execution_count": null,
   "metadata": {},
   "outputs": [],
   "source": [
    "age_groups = pd.read_csv('dataset_deaths_by_age_group.csv')\n",
    "\n",
    "age_groups.head()"
   ]
  },
  {
   "cell_type": "code",
   "execution_count": null,
   "metadata": {},
   "outputs": [],
   "source": [
    "# Clean column names\n",
    "\n",
    "age_groups.columns = [re.sub('.+e: | \\(.+', '', col) for col in age_groups.columns]\n",
    "\n",
    "age_groups = age_groups.rename(columns = {'Entity': 'Country'})\n",
    "\n",
    "age_groups.head()"
   ]
  },
  {
   "cell_type": "code",
   "execution_count": null,
   "metadata": {},
   "outputs": [],
   "source": [
    "# Clean country-list\n",
    "\n",
    "# print(set(age_groups['Country']))"
   ]
  },
  {
   "cell_type": "code",
   "execution_count": null,
   "metadata": {},
   "outputs": [],
   "source": [
    "age_groups_country_remove = ['South Asia (WB)', 'African Region (WHO)', 'World Bank Upper Middle Income', 'World Bank Low Income', 'Western Pacific Region (WHO)', 'European Region (WHO)', 'World Bank High Income', 'England', 'Northern Ireland', 'Scotland', 'Wales', 'North America (WB)', 'World Bank Lower Middle Income', 'Region of the Americas (WHO)', 'G20', 'South-East Asia Region (WHO)', 'Latin America & Caribbean (WB)', 'Sub-Saharan Africa (WB)', 'Eastern Mediterranean Region (WHO)', 'OECD Countries', 'East Asia & Pacific (WB)', 'World', 'Europe & Central Asia (WB)', 'Middle East & North Africa (WB)']\n",
    "\n",
    "age_groups = age_groups[~age_groups['Country'].isin(age_groups_country_remove)]\n",
    "\n",
    "len(set(age_groups['Country']))"
   ]
  },
  {
   "cell_type": "markdown",
   "metadata": {},
   "source": [
    "#### Merge datasets death causes + age groups"
   ]
  },
  {
   "cell_type": "code",
   "execution_count": null,
   "metadata": {},
   "outputs": [],
   "source": [
    "causes_age_groups = pd.merge(causes, age_groups, left_on = ['Country', 'Code', 'Year'], right_on = ['Country', 'Code', 'Year'])\n",
    "\n",
    "causes_age_groups.head()"
   ]
  },
  {
   "cell_type": "markdown",
   "metadata": {},
   "source": [
    "#### Clean death categories dataset"
   ]
  },
  {
   "cell_type": "code",
   "execution_count": null,
   "metadata": {},
   "outputs": [],
   "source": [
    "categories = pd.read_csv('dataset_deaths_by_category.csv')\n",
    "\n",
    "categories.head()"
   ]
  },
  {
   "cell_type": "code",
   "execution_count": null,
   "metadata": {},
   "outputs": [],
   "source": [
    "categories.columns"
   ]
  },
  {
   "cell_type": "code",
   "execution_count": null,
   "metadata": {},
   "outputs": [],
   "source": [
    "# Clean column names\n",
    "\n",
    "categories.columns = [re.sub('^.{8} | - S.+', '', col) for col in categories.columns]\n",
    "\n",
    "categories = categories.rename(columns = {'Entity': 'Country'})\n",
    "\n",
    "categories.head()"
   ]
  },
  {
   "cell_type": "code",
   "execution_count": null,
   "metadata": {},
   "outputs": [],
   "source": [
    "# Clean country-list\n",
    "\n",
    "# print(set(categories['Country']))"
   ]
  },
  {
   "cell_type": "code",
   "execution_count": null,
   "metadata": {},
   "outputs": [],
   "source": [
    "categories_country_remove = ['World Bank Lower Middle Income', 'OECD Countries', 'G20', 'Scotland', 'England', 'Wales', 'World Bank Low Income', 'Western Pacific Region (WHO)', 'Region of the Americas (WHO)', 'South-East Asia Region (WHO)', 'World Bank High Income', 'North America (WB)', 'African Region (WHO)', 'Eastern Mediterranean Region (WHO)', 'World Bank Upper Middle Income', 'Latin America & Caribbean (WB)', 'Middle East & North Africa (WB)', 'Sub-Saharan Africa (WB)', 'Europe & Central Asia (WB)', 'European Region (WHO)', 'Northern Ireland', 'World', 'South Asia (WB)', 'East Asia & Pacific (WB)']\n",
    "\n",
    "categories = categories[~categories['Country'].isin(categories_country_remove)]\n",
    "\n",
    "len(set(categories['Country']))"
   ]
  },
  {
   "cell_type": "markdown",
   "metadata": {},
   "source": [
    "#### Merge dataframe death causes/age-groups + categories"
   ]
  },
  {
   "cell_type": "code",
   "execution_count": null,
   "metadata": {},
   "outputs": [],
   "source": [
    "deaths_df = pd.merge(causes_age_groups, categories, left_on = ['Country', 'Code', 'Year'], right_on = ['Country', 'Code', 'Year'])\n",
    "\n",
    "deaths_df.head()"
   ]
  },
  {
   "cell_type": "markdown",
   "metadata": {},
   "source": [
    "#### Merge dataframe death causes/age-groups/categories + gdp + population"
   ]
  },
  {
   "cell_type": "code",
   "execution_count": null,
   "metadata": {},
   "outputs": [],
   "source": [
    "gdp_population = pd.read_excel('dataset_gdp_population.xlsx')\n",
    "\n",
    "gdp_population.head()"
   ]
  },
  {
   "cell_type": "code",
   "execution_count": null,
   "metadata": {},
   "outputs": [],
   "source": [
    "deaths_df = pd.merge(deaths_df, gdp_population, left_on = 'Country', right_on = 'Country')\n",
    "\n",
    "deaths_df.head()"
   ]
  },
  {
   "cell_type": "markdown",
   "metadata": {},
   "source": [
    "#### Calculate income classification"
   ]
  },
  {
   "cell_type": "code",
   "execution_count": null,
   "metadata": {},
   "outputs": [],
   "source": [
    "# Low income            < 1.085\n",
    "# Lower-middle income   1.086 - 4.255\n",
    "# Upper-middle income   4.256 - 13.205\n",
    "# High income           > 13.205"
   ]
  },
  {
   "cell_type": "code",
   "execution_count": null,
   "metadata": {},
   "outputs": [],
   "source": [
    "def income_classification(income):\n",
    "   if income < 1085:\n",
    "      return 'Low'\n",
    "   elif income < 4255:\n",
    "      return 'Lower-middle'\n",
    "   elif income < 13205:\n",
    "      return 'Upper-middle'\n",
    "   else:\n",
    "      return 'High'"
   ]
  },
  {
   "cell_type": "code",
   "execution_count": null,
   "metadata": {},
   "outputs": [],
   "source": [
    "deaths_df['Income'] = deaths_df['GDP_capita_USD'].apply(income_classification)\n",
    "\n",
    "deaths_df.head()"
   ]
  },
  {
   "cell_type": "markdown",
   "metadata": {},
   "source": [
    "#### Calculate crude death rate"
   ]
  },
  {
   "cell_type": "code",
   "execution_count": null,
   "metadata": {},
   "outputs": [],
   "source": [
    "# Sum of deaths / Population * 100000\n",
    "\n",
    "deaths_df['Death_rate_100K'] = (deaths_df.iloc[:, 36:41].sum(axis = 1) / deaths_df['Population'])\n",
    "\n",
    "deaths_df.head()"
   ]
  },
  {
   "cell_type": "code",
   "execution_count": null,
   "metadata": {},
   "outputs": [],
   "source": [
    "deaths_df.shape"
   ]
  },
  {
   "cell_type": "code",
   "execution_count": null,
   "metadata": {},
   "outputs": [],
   "source": [
    "# Create Tableau dashboard view\n",
    "\n",
    "deaths_df.to_excel('tableau_view.xlsx')"
   ]
  }
 ],
 "metadata": {
  "kernelspec": {
   "display_name": "Python 3.11.0 64-bit",
   "language": "python",
   "name": "python3"
  },
  "language_info": {
   "codemirror_mode": {
    "name": "ipython",
    "version": 3
   },
   "file_extension": ".py",
   "mimetype": "text/x-python",
   "name": "python",
   "nbconvert_exporter": "python",
   "pygments_lexer": "ipython3",
   "version": "3.11.0"
  },
  "orig_nbformat": 4,
  "vscode": {
   "interpreter": {
    "hash": "5238573367df39f7286bb46f9ff5f08f63a01a80960060ce41e3c79b190280fa"
   }
  }
 },
 "nbformat": 4,
 "nbformat_minor": 2
}
